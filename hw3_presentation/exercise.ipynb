{
 "cells": [
  {
   "cell_type": "markdown",
   "metadata": {},
   "source": [
    "# Dynamic Programming Lab II"
   ]
  },
  {
   "cell_type": "code",
   "execution_count": 6,
   "metadata": {},
   "outputs": [],
   "source": [
    "import numpy as np"
   ]
  },
  {
   "cell_type": "markdown",
   "metadata": {},
   "source": [
    "## Memoization\n",
    "In dynamic programming, we write out a recursive formula that expresses large problems in terms of smaller ones and then use it to fill out a table of solution values in a bottom-up manner, from smallest subproblem to largest.\n",
    "\n",
    "The formula also suggests a recursive algorithm, but we saw earlier that naive recursion can be terribly inefficient, because it solves the same subproblems over and over again. What about a more intelligent recursive implementation, one that remembers its previous invocations and thereby avoids repeating them?\n",
    "\n",
    "On the knapsack problem (with repetitions), such an algorithm would use a hash table to store the values of K($\\cdot$) that had already been computed. At each recursive call requesting some $K(w)$, the algorithm would first check if the answer was already in the table and then would proceed to its calculation only if it wasn't. This trick is called $\\textit{memoization}$:\n",
    "\n",
    "\n",
    "\n",
    "Since this algorithm never repeats a subproblem, its running time is $O(nW)$, just like the dynamic program. However, the constant factor in this big-$O$ notation is substantially larger because of the overhead of recursion.\n",
    "\n",
    "In some cases, though, memoization pays off. Here's why: dynamic programming automatically solves every subproblem that could conceivably be needed, while memoization only ends up solving the ones that are actually used. For instance, suppose that $W$ and all the weights $w_i$ are multiples of 100. Then a subproblem $K(w)$ is useless if 100 does not divide $w$. The memoized recursive algorithm will never look at these extraneous table entries."
   ]
  },
  {
   "cell_type": "markdown",
   "metadata": {},
   "source": [
    "# Knapsack"
   ]
  },
  {
   "cell_type": "markdown",
   "metadata": {},
   "source": [
    "During a robbery, a burglar finds much more loot than he had expected and has to decide what to take. His bag (or \"knapsack\") will hold a total weight of at most $W$ pounds. There are n items to pick from, of weight $w1, ..., wn$ and dollar value $v1, ..., vn$. What's the most valuable combination of items he can fit into his bag?"
   ]
  },
  {
   "cell_type": "markdown",
   "metadata": {},
   "source": [
    "For instance, take $W = 10$ and\n",
    "\n",
    "| Item | Weight   | Value |\n",
    "|------|------|------ |\n",
    "|   1  | 6| 30|\n",
    "|   2  | 3| 14|\n",
    "|   3  | 4| 16|\n",
    "|   4  | 2| 9|\n"
   ]
  },
  {
   "cell_type": "markdown",
   "metadata": {},
   "source": [
    "There are two versions of this problem. If there are unlimited quantities of each item available, the optimal choice is to pick item 1 and two of item 4 (total: 48). On the other hand, if there is one of each item (the burglar has broken into an art gallery, say), then the optimal knapsack contains items 1 and 3 (total: 46).\n",
    "\n",
    "Neither version of this problem is likely to have a polynomial-time algorithm. However, using dynamic programming they can both be solved in $O(nW)$ time, which is reasonable when $W$ is small, but is not polynomial since the input size is proportional to $logW$ rather than $W$."
   ]
  },
  {
   "cell_type": "markdown",
   "metadata": {},
   "source": [
    "## Unbounded Knapsack (with repetition)\n",
    "Let's start with the version that allows repetition. As always, the main question in dynamic programming is, what are the subproblems? In this case we can shrink the original problem in two ways: we can either look at smaller knapsack capacities $w \\leq W$, or we can look at fewer items (for instance, items $1, 2,..., j, for j \\leq n$). It usually takes a little experimentation to figure out exactly what works.\n",
    "\n",
    "The first restriction calls for smaller capacities. Accordingly, define:\n",
    "\n",
    "\\begin{equation}\n",
    "K(w) = \\text{maximum value achievable with a knapsack of capacity } w\n",
    "\\end{equation}\n",
    "\n",
    "Can we express this in terms of smaller subproblems? Well, if the optimal solution to $K(w)$ includes item $i$, then removing this item from the knapsack leaves an optimal solution to $K(w - w_i)$. In other words, $K(w)$ is simply $K(w - w_i) + v_i$, for some $i$. We don't know which $i$,\n",
    "so we need to try all possibilities.\n",
    "\n",
    "\\begin{equation}\n",
    "K(w) = \\max\\limits_{i: w_i \\leq w} \\{K(w - wi) + v_i\\}\n",
    "\\end{equation}\n",
    "\n",
    "where as usual our convention is that the maximum over an empty set is 0. We're done! The\n",
    "algorithm now writes itself, and it is characteristically simple and elegant."
   ]
  },
  {
   "cell_type": "markdown",
   "metadata": {},
   "source": [
    "This algorithm fills in a one-dimensional table of length $W + 1$, in left-to-right order. Each entry can take up to $O(n)$ time to compute, so the overall running time is $O(nW)$. \n",
    "\n",
    "As always, there is an underlying dag. Try constructing it, and you will be rewarded with a startling insight: this particular variant of knapsack boils down to finding the longest path in a dag!"
   ]
  },
  {
   "cell_type": "markdown",
   "metadata": {},
   "source": [
    "**Now it's your turn!**\n",
    "\n",
    "Implement in the next cell an algorithm that correctly finds the optimal theft."
   ]
  },
  {
   "cell_type": "code",
   "execution_count": 50,
   "metadata": {},
   "outputs": [],
   "source": [
    "def unbounded_knapsack(W, weights, values): \n",
    "    n = len(weights) \n",
    "    K = [0]*(W + 1)\n",
    "    \n",
    "    #enter your code here\n",
    "\n",
    "    return K[x]"
   ]
  },
  {
   "cell_type": "code",
   "execution_count": 51,
   "metadata": {},
   "outputs": [
    {
     "data": {
      "text/plain": [
       "300"
      ]
     },
     "execution_count": 51,
     "metadata": {},
     "output_type": "execute_result"
    }
   ],
   "source": [
    "W = 100\n",
    "weights = [5, 10, 15]\n",
    "values = [10, 30, 20] \n",
    "\n",
    "unbounded_knapsack(W, weights, values)"
   ]
  },
  {
   "cell_type": "markdown",
   "metadata": {},
   "source": [
    "the answer should be 300"
   ]
  },
  {
   "cell_type": "markdown",
   "metadata": {},
   "source": [
    "## 0/1 Knapsack (without repetition)\n",
    "On to the second variant: what if repetitions are not allowed? Our earlier subproblems now becomes completely useless. For instance, knowing that the value $K(w - w_n)$ is very high doesn't help us, because we don't know whether or not item n already got used up in this partial solution. We must therefore refine our concept of a subproblem to carry additional information about the items being used. We add a second parameter, $0 \\leq j \\leq n$:\n",
    "\n",
    "\\begin{equation}\n",
    "K(w, j) = \\text{maximum value achievable using a knapsack of capacity w and items} 1,...,j\n",
    "\\end{equation}\n",
    "\n",
    "The answer we seek is $K(W, n)$.\n",
    "\n",
    "How can we express a subproblem $K(w, j)$ in terms of smaller subproblems? Quite simple: either item $j$ is needed to achieve the optimal value, or it isn't needed:\n",
    "\n",
    "\\begin{equation}\n",
    "K(w, j) = max\\{K(w - w_j, j - 1) + v_j, K(w, j - 1)\\}\n",
    "\\end{equation}\n",
    "\n",
    "\n",
    "The first case is invoked only if $w_j \\leq w$. In other words, we can express K(w, j) in terms of subproblems K($\\cdot$, j - 1).\n",
    "\n",
    "The algorithm then consists of filling out a two-dimensional table, with $W + 1$ rows and $n + 1$ columns. Each table entry takes just constant time, so even though the table is much larger than in the previous case, the running time remains the same, $O(nW)$. "
   ]
  },
  {
   "cell_type": "markdown",
   "metadata": {},
   "source": [
    "**Now it's your turn!**\n",
    "\n",
    "Implement in the next cell an algorithm that correctly finds the optimal theft."
   ]
  },
  {
   "cell_type": "code",
   "execution_count": 66,
   "metadata": {},
   "outputs": [],
   "source": [
    "def zero_one_knaspsack(W, weights, values):\n",
    "    n = len(weights) \n",
    "    K = [[0 for k in range(n + 1)] for i in range(W + 1)]\n",
    "    \n",
    "    #enter your code here\n",
    "    \n",
    "    return K[x][i]"
   ]
  },
  {
   "cell_type": "code",
   "execution_count": 80,
   "metadata": {
    "scrolled": false
   },
   "outputs": [
    {
     "name": "stdout",
     "output_type": "stream",
     "text": [
      "THE ANSWER IS: 220\n"
     ]
    }
   ],
   "source": [
    "values = [60, 100, 120] \n",
    "weights = [10, 20, 30] \n",
    "W = 50\n",
    "print(\"THE ANSWER IS:\", zero_one_knaspsack(W , weights , values))"
   ]
  },
  {
   "cell_type": "markdown",
   "metadata": {},
   "source": [
    "the answer should be 220"
   ]
  },
  {
   "cell_type": "markdown",
   "metadata": {},
   "source": [
    "## Longest Common Subsequence"
   ]
  },
  {
   "cell_type": "code",
   "execution_count": 78,
   "metadata": {},
   "outputs": [],
   "source": [
    "def lcs(X , Y): \n",
    "    n, m = len(X), len(Y) \n",
    "    L = [[0 for k in range(m + 1)] for i in range(n + 1)] \n",
    "\n",
    "    #enter your code here\n",
    "\n",
    "    return L[n][m] "
   ]
  },
  {
   "cell_type": "code",
   "execution_count": 81,
   "metadata": {},
   "outputs": [
    {
     "name": "stdout",
     "output_type": "stream",
     "text": [
      "Length of LCS is  6\n"
     ]
    }
   ],
   "source": [
    "# Here is a code to test the function\n",
    "X = \"exponential\"\n",
    "Y = \"polynomial\"\n",
    "print (\"Length of LCS is \", lcs(X, Y))"
   ]
  },
  {
   "cell_type": "markdown",
   "metadata": {},
   "source": [
    "the answer should be 6"
   ]
  },
  {
   "cell_type": "markdown",
   "metadata": {},
   "source": [
    "# What if we wanted to retrieve items for each one of the algorithms? Let's analyse the codes below."
   ]
  },
  {
   "cell_type": "markdown",
   "metadata": {},
   "source": [
    "## Unbounded Knapsack (with repetition)"
   ]
  },
  {
   "cell_type": "code",
   "execution_count": 72,
   "metadata": {},
   "outputs": [],
   "source": [
    "def unbounded_knapsack_items(W, weights, values): \n",
    "    n = len(weights) \n",
    "    K = [0]*(W + 1)\n",
    "\n",
    "    #enter your code here    \n",
    "            \n",
    "    return items"
   ]
  },
  {
   "cell_type": "code",
   "execution_count": 73,
   "metadata": {},
   "outputs": [
    {
     "data": {
      "text/plain": [
       "[10, 10, 10, 10, 10, 10, 10, 10, 10, 10]"
      ]
     },
     "execution_count": 73,
     "metadata": {},
     "output_type": "execute_result"
    }
   ],
   "source": [
    "W = 100\n",
    "weights = [5, 10, 15]\n",
    "values = [10, 30, 20] \n",
    "\n",
    "unbounded_knapsack_items(W, weights, values)"
   ]
  },
  {
   "cell_type": "markdown",
   "metadata": {},
   "source": [
    "## 0/1 Knapsack (without repetition)\n"
   ]
  },
  {
   "cell_type": "code",
   "execution_count": 74,
   "metadata": {},
   "outputs": [],
   "source": [
    "def zero_one_knaspsack_items(W, weights, values):\n",
    "    n = len(weights) \n",
    "    K = [[0 for k in range(n + 1)] for i in range(W + 1)]\n",
    "    \n",
    "    #enter your code here    \n",
    "                    \n",
    "    return items"
   ]
  },
  {
   "cell_type": "code",
   "execution_count": 75,
   "metadata": {
    "scrolled": false
   },
   "outputs": [
    {
     "name": "stdout",
     "output_type": "stream",
     "text": [
      "\n",
      "\n",
      "THE ANSWER IS: [20, 30]\n"
     ]
    }
   ],
   "source": [
    "W = 50\n",
    "weights = [10, 20, 30] \n",
    "values = [60, 100, 120] \n",
    "print(\"\\n\\nTHE ANSWER IS:\", zero_one_knaspsack_items(W, weights, values))"
   ]
  },
  {
   "cell_type": "markdown",
   "metadata": {},
   "source": [
    "## Longest Common Subsequence"
   ]
  },
  {
   "cell_type": "code",
   "execution_count": 76,
   "metadata": {},
   "outputs": [],
   "source": [
    "def lcs_items(X , Y): \n",
    "    n, m = len(X), len(Y) \n",
    "    L = [[0 for k in range(m + 1)] for i in range(n + 1)] \n",
    "\n",
    "    #enter your code here\n",
    "            \n",
    "    return commons"
   ]
  },
  {
   "cell_type": "code",
   "execution_count": 77,
   "metadata": {},
   "outputs": [
    {
     "name": "stdout",
     "output_type": "stream",
     "text": [
      "Items are:  ['p', 'o', 'n', 'i', 'a', 'l']\n"
     ]
    }
   ],
   "source": [
    "# Here is a code to test the function\n",
    "X = \"exponential\"\n",
    "Y = \"polynomial\"\n",
    "print (\"Items are: \", lcs_items(X, Y))"
   ]
  },
  {
   "cell_type": "markdown",
   "metadata": {},
   "source": [
    "# That's it. We are done!"
   ]
  },
  {
   "cell_type": "markdown",
   "metadata": {},
   "source": [
    "# References:\n",
    "* DASGUPTA, Papadimitriou, VAZIRANI, U.. Algorithms.\n",
    "* [Stanford website](http://web.stanford.edu/class/archive/cs/cs161/cs161.1178/)\n",
    "* [geekforgeeks website](https://www.geeksforgeeks.org/)"
   ]
  },
  {
   "cell_type": "code",
   "execution_count": null,
   "metadata": {},
   "outputs": [],
   "source": []
  }
 ],
 "metadata": {
  "kernelspec": {
   "display_name": "Python 3",
   "language": "python",
   "name": "python3"
  },
  "language_info": {
   "codemirror_mode": {
    "name": "ipython",
    "version": 3
   },
   "file_extension": ".py",
   "mimetype": "text/x-python",
   "name": "python",
   "nbconvert_exporter": "python",
   "pygments_lexer": "ipython3",
   "version": "3.7.1"
  }
 },
 "nbformat": 4,
 "nbformat_minor": 2
}
