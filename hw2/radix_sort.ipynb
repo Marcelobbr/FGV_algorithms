{
 "cells": [
  {
   "cell_type": "markdown",
   "metadata": {},
   "source": [
    "# hw2\n",
    "* Aluno: Marcelo Bianchi Barata Ribeiro\n",
    "* Professor: Jorge Poco"
   ]
  },
  {
   "cell_type": "markdown",
   "metadata": {},
   "source": [
    "* Function hierarchy: radix_sort -> bucket_sort -> stable_sort -> insertion_sort\n",
    "* The main issue in this task is to demonstrate how radix sort works. So I used a simple stable sort algorithm, which is easier to understand. But there are more efficient ones for this case, such as counting sort."
   ]
  },
  {
   "cell_type": "code",
   "execution_count": 1,
   "metadata": {},
   "outputs": [],
   "source": [
    "from math import ceil, log"
   ]
  },
  {
   "cell_type": "markdown",
   "metadata": {},
   "source": [
    "# Build stable sort\n",
    "* With stable_sort function, you can build different types of stable sort algotihms. Each one has its pros and cons."
   ]
  },
  {
   "cell_type": "code",
   "execution_count": 11,
   "metadata": {},
   "outputs": [],
   "source": [
    "def insertion_sort(A):\n",
    "    for i in range(len(A)):\n",
    "        cur_value = A[i]\n",
    "        j = i-1\n",
    "        while j >= 0 and A[j] > cur_value:\n",
    "            A[j+1] = A[j]\n",
    "            j -= 1\n",
    "        A[j+1] = cur_value\n",
    "    return A"
   ]
  },
  {
   "cell_type": "code",
   "execution_count": 12,
   "metadata": {},
   "outputs": [],
   "source": [
    "def stable_sort(A, sort_type = \"insertionsort\"):\n",
    "    if sort_type == \"insertionsort\":\n",
    "        return insertion_sort(A)"
   ]
  },
  {
   "cell_type": "markdown",
   "metadata": {},
   "source": [
    "# Build bucket sort"
   ]
  },
  {
   "cell_type": "code",
   "execution_count": 27,
   "metadata": {},
   "outputs": [],
   "source": [
    "def bucket_sort(A, num_buckets = 10): \n",
    "    buckets = [] \n",
    "    for i in range(num_buckets): \n",
    "        buckets.append([]) \n",
    "        \n",
    "    # put array elements in different buckets according to a sellected key\n",
    "    for j in A: \n",
    "        j_key = int(list(j)[0]) \n",
    "        buckets[j_key].append(list(j.values())[0]) \n",
    "    #print(buckets)\n",
    "    \n",
    "    # applies a stable sort algorithm inside each bucket\n",
    "    for i in range(num_buckets): \n",
    "        buckets[i] = stable_sort(buckets[i], sort_type = \"insertionsort\") \n",
    "\n",
    "    # join all\n",
    "    k = 0\n",
    "    for i in range(num_buckets): \n",
    "        for j in range(len(buckets[i])): \n",
    "            A[k] = buckets[i][j] \n",
    "            k += 1\n",
    "    return A "
   ]
  },
  {
   "cell_type": "markdown",
   "metadata": {},
   "source": [
    "# Build radix sort"
   ]
  },
  {
   "cell_type": "code",
   "execution_count": 5,
   "metadata": {},
   "outputs": [],
   "source": [
    "def get_digit(number, n):\n",
    "    return number / 10**n % 10"
   ]
  },
  {
   "cell_type": "code",
   "execution_count": 6,
   "metadata": {},
   "outputs": [],
   "source": [
    "def radix_sort(A, d, k=10):\n",
    "    for i in range(d):\n",
    "        A_j = []  \n",
    "        for j in A:\n",
    "            key_val = {}\n",
    "            key_val[get_digit(j,i)] = j\n",
    "            A_j.append(key_val)\n",
    "        A = bucket_sort(A_j, num_buckets = 10)\n",
    "    return A"
   ]
  },
  {
   "cell_type": "markdown",
   "metadata": {},
   "source": [
    "# Testing with homework example"
   ]
  },
  {
   "cell_type": "code",
   "execution_count": 29,
   "metadata": {},
   "outputs": [
    {
     "name": "stdout",
     "output_type": "stream",
     "text": [
      "[3, 10, 100, 201]\n"
     ]
    }
   ],
   "source": [
    "A = [201,10,3,100]\n",
    "A_sorted = radix_sort(A, 3, 10)\n",
    "print(A_sorted)"
   ]
  },
  {
   "cell_type": "markdown",
   "metadata": {},
   "source": [
    "# Testing with other cases\n",
    "* Notice that we are only considering natural numbers."
   ]
  },
  {
   "cell_type": "code",
   "execution_count": 21,
   "metadata": {},
   "outputs": [],
   "source": [
    "def get_digits(A):\n",
    "    max_A = max(A) \n",
    "    if max_A in [0,1,2]: d = 1\n",
    "    else: d = ceil(log(max_A-1,10))\n",
    "    \n",
    "    return d"
   ]
  },
  {
   "cell_type": "code",
   "execution_count": 25,
   "metadata": {},
   "outputs": [],
   "source": [
    "x = [170, 45, 47, 75, 90, 802, 24, 2, 66] \n",
    "y = [97, 65, 56, 910, 70897, 909, 900, 899, 34, 68, 43, 201, 10, 3, 100]\n",
    "z = [20,200,201,1,1,1,1,1,0,0,0,0]"
   ]
  },
  {
   "cell_type": "code",
   "execution_count": 28,
   "metadata": {},
   "outputs": [
    {
     "name": "stdout",
     "output_type": "stream",
     "text": [
      "Result:\n",
      "[2, 24, 45, 47, 66, 75, 90, 170, 802]\n",
      "\n",
      "Result:\n",
      "[3, 10, 34, 43, 56, 65, 68, 97, 100, 201, 899, 900, 909, 910, 70897]\n",
      "\n",
      "Result:\n",
      "[0, 0, 0, 0, 1, 1, 1, 1, 1, 20, 200, 201]\n",
      "\n"
     ]
    }
   ],
   "source": [
    "#Setting digits range. Default is 10.\n",
    "k = 10\n",
    "\n",
    "for arr in [x,y,z]:\n",
    "    #Setting number of digits. Find max number on array and get its number of digits.\n",
    "    d = get_digits(arr) \n",
    "\n",
    "    sorted_arr = radix_sort(arr, d, k) \n",
    "    print(\"Result:\\n\", sorted_arr,\"\\n\", sep=\"\")"
   ]
  },
  {
   "cell_type": "code",
   "execution_count": null,
   "metadata": {},
   "outputs": [],
   "source": []
  }
 ],
 "metadata": {
  "kernelspec": {
   "display_name": "Python 3",
   "language": "python",
   "name": "python3"
  },
  "language_info": {
   "codemirror_mode": {
    "name": "ipython",
    "version": 3
   },
   "file_extension": ".py",
   "mimetype": "text/x-python",
   "name": "python",
   "nbconvert_exporter": "python",
   "pygments_lexer": "ipython3",
   "version": "3.7.1"
  }
 },
 "nbformat": 4,
 "nbformat_minor": 2
}
