{
 "cells": [
  {
   "cell_type": "code",
   "execution_count": 252,
   "metadata": {},
   "outputs": [],
   "source": [
    "import numpy as np\n",
    "from datetime import datetime\n",
    "import matplotlib.pyplot as plt\n",
    "import pickle\n",
    "import csv\n",
    "import pandas as pd\n",
    "#import timeit"
   ]
  },
  {
   "cell_type": "markdown",
   "metadata": {},
   "source": [
    "# sorting algorithms"
   ]
  },
  {
   "cell_type": "code",
   "execution_count": 2,
   "metadata": {},
   "outputs": [],
   "source": [
    "def insert_sort(a):\n",
    "    for i in range(len(a)):\n",
    "        cur_value = a[i]\n",
    "        j = i-1\n",
    "        while j >= 0 and a[j] > cur_value:\n",
    "            a[j+1] = a[j]\n",
    "            j = j-1\n",
    "        a[j+1] = cur_value\n",
    "    return a"
   ]
  },
  {
   "cell_type": "code",
   "execution_count": 3,
   "metadata": {},
   "outputs": [],
   "source": [
    "def merge_sort(a):\n",
    "    a = list(a)\n",
    "    lenA= len(a)\n",
    "    half_len = int(lenA/2)\n",
    "    if len(a) <= 1:\n",
    "        return a\n",
    "    left = a[:half_len]\n",
    "    right = a[half_len:]\n",
    "    return merge(merge_sort(left), merge_sort(right))\n",
    "def merge(a, b):\n",
    "    result = []\n",
    "    while a and b != []:\n",
    "        if a[0] < b[0]:\n",
    "            result.append(a[0])\n",
    "            a.pop(0)\n",
    "        else: \n",
    "            result.append(b[0])\n",
    "            b.pop(0)\n",
    "    result.extend(a)\n",
    "    result.extend(b)\n",
    "    return result"
   ]
  },
  {
   "cell_type": "code",
   "execution_count": 296,
   "metadata": {},
   "outputs": [],
   "source": [
    "def quicksort(a):\n",
    "    less = []\n",
    "    equal = []\n",
    "    greater = []\n",
    "    if len(a) > 1:\n",
    "        pivot = a[0]\n",
    "        for x in a:\n",
    "            if x < pivot:\n",
    "                less.append(x)\n",
    "            elif x == pivot:\n",
    "                equal.append(x)\n",
    "            elif x > pivot:\n",
    "                greater.append(x)\n",
    "        return quicksort(less)+equal+quicksort(greater)\n",
    "    else:\n",
    "        return a"
   ]
  },
  {
   "cell_type": "raw",
   "metadata": {},
   "source": [
    "def quicksort(arr,low,high): \n",
    "    if low < high: \n",
    "        pi = partition(arr,low,high) \n",
    "        quickSort(arr, low, pi-1) \n",
    "        quickSort(arr, pi+1, high)\n",
    "        return arr\n",
    "def partition(arr,low,high): \n",
    "    i = ( low-1 )\n",
    "    pivot = arr[high] \n",
    "    for j in range(low, high): \n",
    "        if arr[j] <= pivot: \n",
    "            i = i+1 \n",
    "            arr[i],arr[j] = arr[j],arr[i] \n",
    "    arr[i+1],arr[high] = arr[high],arr[i+1] \n",
    "    return ( i+1 ) "
   ]
  },
  {
   "cell_type": "code",
   "execution_count": 293,
   "metadata": {},
   "outputs": [
    {
     "data": {
      "text/plain": [
       "[1, 1, 2, 4, 4, 5, 6, 7, 7, 8, 9, 9]"
      ]
     },
     "execution_count": 293,
     "metadata": {},
     "output_type": "execute_result"
    }
   ],
   "source": [
    "test = [9,5,7,6,1,4,7,8,2,4,9,1]\n",
    "test = quicksort(test,0,len(test)-1)\n",
    "test"
   ]
  },
  {
   "cell_type": "code",
   "execution_count": 294,
   "metadata": {},
   "outputs": [],
   "source": [
    "def is_sorted(a):\n",
    "    if all([a[i] <= a[i+1] for i in range(len(a)-1)]):\n",
    "        return True\n",
    "    return False"
   ]
  },
  {
   "cell_type": "markdown",
   "metadata": {},
   "source": [
    "# funcoes auxiliares"
   ]
  },
  {
   "cell_type": "code",
   "execution_count": 6,
   "metadata": {},
   "outputs": [],
   "source": [
    "def timer(t_init):\n",
    "    t = datetime.now() - t_init\n",
    "    t = t.seconds + t.microseconds*10**-6\n",
    "    return t"
   ]
  },
  {
   "cell_type": "code",
   "execution_count": 102,
   "metadata": {},
   "outputs": [],
   "source": [
    "def fill_list(mode, n):\n",
    "    if mode == \"random\":\n",
    "        result = np.random.randint(n, size=n)\n",
    "    elif mode == \"ascending\":\n",
    "        result = np.linspace(0,n,n)\n",
    "    elif mode == \"descending\":\n",
    "        result = np.linspace(n,0,n)\n",
    "    result = [int(i) for i in result]\n",
    "    return result"
   ]
  },
  {
   "cell_type": "code",
   "execution_count": 219,
   "metadata": {},
   "outputs": [],
   "source": [
    "def get_cpp_data(type):\n",
    "    file = 'c++outputs_'+'random'+'.csv'\n",
    "    csv_reader = csv.reader(open(file), delimiter=',')\n",
    "    line_count = 0\n",
    "    headers = next(csv_reader, None)[:3]\n",
    "    cpp_algorithms_dict = {h:[] for h in headers}\n",
    "    for row in csv_reader:\n",
    "        for h, v in list(zip(headers, row)):\n",
    "            cpp_algorithms_dict[h].append(v)\n",
    "    return cpp_algorithms_dict"
   ]
  },
  {
   "cell_type": "code",
   "execution_count": null,
   "metadata": {},
   "outputs": [],
   "source": [
    "cpp_algorithms_dict"
   ]
  },
  {
   "cell_type": "code",
   "execution_count": 248,
   "metadata": {},
   "outputs": [
    {
     "data": {
      "text/plain": [
       "array([0, 1, 2, 3, 4, 5, 6, 7, 8, 9])"
      ]
     },
     "execution_count": 248,
     "metadata": {},
     "output_type": "execute_result"
    }
   ],
   "source": [
    " np.arange(N)"
   ]
  },
  {
   "cell_type": "code",
   "execution_count": 266,
   "metadata": {},
   "outputs": [],
   "source": [
    "def save_figure(data, sizes, mode):\n",
    "    N = len(sizes)\n",
    "    legend = list(data.keys())\n",
    "    #print(legend)\n",
    "    \n",
    "    fig, ax = plt.subplots(figsize=(10,10))\n",
    "    \n",
    "    \n",
    "    ind = np.arange(N)\n",
    "    width = 0.1\n",
    "    \n",
    "    values = list(data.values())\n",
    "    bars_dict = {}\n",
    "    for i in range(len(data)):\n",
    "        p = \"p\"+str(i)\n",
    "        #print(p)\n",
    "        bars_dict[p] = ax.bar(ind+width*i, values[i], width)\n",
    "    \n",
    "    title = 'Runtime and algorithms ({} order)'.format(mode)\n",
    "    ax.set_title(title)\n",
    "    ax.set_xticks(ind + width/2)\n",
    "    ax.set_xticklabels(list(sizes))\n",
    "    #ax.set_ylim([0, 20])\n",
    "    \n",
    "    ax.legend(bars_dict.values(), legend)\n",
    "    ax.set_xlabel('List sizes')\n",
    "    ax.set_ylabel('Runtime')\n",
    "    ax.autoscale_view()\n",
    "    \n",
    "    fig_name = \"runtime_comparison_{}.png\".format(mode)\n",
    "    plt.savefig(fig_name)"
   ]
  },
  {
   "cell_type": "raw",
   "metadata": {},
   "source": [
    "save_figure(results, ns, mode)"
   ]
  },
  {
   "cell_type": "code",
   "execution_count": 262,
   "metadata": {},
   "outputs": [],
   "source": [
    "def get_cpp_data(order_type):\n",
    "    file = 'c++outputs_'+order_type+'.csv'\n",
    "    csv_reader = csv.reader(open(file), delimiter=',')\n",
    "    line_count = 0\n",
    "    headers = next(csv_reader, None)[:3]\n",
    "    cpp_dict = {h:[] for h in headers}\n",
    "    for row in csv_reader:\n",
    "        for h, v in list(zip(headers, row)):\n",
    "            cpp_dict[h].append(float(v))\n",
    "    return cpp_dict"
   ]
  },
  {
   "cell_type": "markdown",
   "metadata": {},
   "source": [
    "# 4.1"
   ]
  },
  {
   "cell_type": "raw",
   "metadata": {},
   "source": [
    "n = 100\n",
    "a = np.random.randint(n, size=n)\n",
    "a"
   ]
  },
  {
   "cell_type": "raw",
   "metadata": {},
   "source": [
    "sorted_a = quicksort(a)"
   ]
  },
  {
   "cell_type": "raw",
   "metadata": {},
   "source": [
    "sorted_a"
   ]
  },
  {
   "cell_type": "code",
   "execution_count": 203,
   "metadata": {},
   "outputs": [],
   "source": [
    "z = {**cpp_algorithms_dict, **test}"
   ]
  },
  {
   "cell_type": "code",
   "execution_count": 301,
   "metadata": {},
   "outputs": [
    {
     "name": "stdout",
     "output_type": "stream",
     "text": [
      "random\n",
      "100 0.00 0.00 0.00\n",
      "200 0.00 0.00 0.00\n",
      "300 0.00 0.00 0.00\n",
      "400 0.01 0.00 0.01\n",
      "500 0.01 0.00 0.01\n",
      "600 0.02 0.00 0.01\n",
      "700 0.02 0.00 0.02\n",
      "800 0.03 0.00 0.03\n",
      "900 0.04 0.00 0.04\n",
      "1000 0.05 0.00 0.04\n",
      "ascending\n",
      "100 0.00 0.00 0.00\n",
      "200 0.00 0.00 0.00\n",
      "300 0.00 0.00 0.01\n",
      "400 0.00 0.00 0.01\n",
      "500 0.00 0.00 0.02\n",
      "600 0.00 0.00 0.03\n",
      "700 0.00 0.00 0.03\n",
      "800 0.00 0.00 0.04\n",
      "900 0.00 0.00 0.05\n",
      "1000 0.00 0.00 0.07\n",
      "descending\n",
      "100 0.00 0.00 0.00\n",
      "200 0.00 0.00 0.00\n",
      "300 0.01 0.00 0.01\n",
      "400 0.01 0.00 0.01\n",
      "500 0.02 0.00 0.02\n",
      "600 0.03 0.00 0.02\n",
      "700 0.04 0.00 0.03\n",
      "800 0.06 0.00 0.04\n",
      "900 0.07 0.00 0.06\n",
      "1000 0.12 0.00 0.06\n"
     ]
    },
    {
     "data": {
      "image/png": "[encoded data removed]",
      "text/plain": [
       "<Figure size 720x720 with 1 Axes>"
      ]
     },
     "metadata": {
      "needs_background": "light"
     },
     "output_type": "display_data"
    },
    {
     "data": {
      "image/png": "[encoded data removed]",
      "text/plain": [
       "<Figure size 720x720 with 1 Axes>"
      ]
     },
     "metadata": {
      "needs_background": "light"
     },
     "output_type": "display_data"
    },
    {
     "data": {
      "image/png": "[encoded data removed]",
      "text/plain": [
       "<Figure size 720x720 with 1 Axes>"
      ]
     },
     "metadata": {
      "needs_background": "light"
     },
     "output_type": "display_data"
    }
   ],
   "source": [
    "def main():\n",
    "    ns = list(np.linspace(100, 1000, 10))\n",
    "    ns = [int(i) for i in ns]\n",
    "    \n",
    "    for order_type in [\"random\",\"ascending\",\"descending\"]:\n",
    "        mergesort_rt, insertsort_rt, quicksort_rt = ([] for i in range(3))\n",
    "        print(order_type)\n",
    "        for n in ns:\n",
    "            n = int(n)\n",
    "            # create and fill an array with random numbers\n",
    "            #order_type = \"random\"\n",
    "            a = fill_list(order_type, n)\n",
    "            \n",
    "            # call insert_sort and  calculate the time\n",
    "            time = datetime.now()\n",
    "            sorted_a = insert_sort(a)\n",
    "            if not is_sorted(sorted_a):\n",
    "                print(\"ERROR\")\n",
    "            t1 = round(timer(time),9)\n",
    "    \n",
    "            # call merge_sort and  calculate the time\n",
    "            time = datetime.now()\n",
    "            sorted_a = merge_sort(a)\n",
    "            if not is_sorted(sorted_a):\n",
    "                print(\"ERROR\")\n",
    "            t2 = round(timer(time),9)\n",
    "    \n",
    "            # call quicksort and  calculate the time\n",
    "            time = datetime.now()\n",
    "            #sorted_a = quicksort(a,0,len(a)-1)\n",
    "            sorted_a = quicksort(a)\n",
    "            if not is_sorted(sorted_a):\n",
    "                print(\"ERROR\")\n",
    "            t3 = round(timer(time),9)\n",
    "            \n",
    "            insertsort_rt.append(t1)\n",
    "            mergesort_rt.append(t2)\n",
    "            quicksort_rt.append(t3)\n",
    "            print(\"%d %.2f %.2f %.2f\" % (n, t1, t2, t3))\n",
    "        algorithms_dict = {}\n",
    "        algorithms_dict['python_insert_sort'] = insertsort_rt\n",
    "        algorithms_dict['python_merge_sort'] = mergesort_rt\n",
    "        algorithms_dict['python_quick_sort'] = quicksort_rt\n",
    "        cpp_algorithms_dict = get_cpp_data(order_type)\n",
    "        algorithms_dict = {**cpp_algorithms_dict, **algorithms_dict}\n",
    "        save_figure(algorithms_dict, ns, order_type)\n",
    "        if order_type == \"descending\": return algorithms_dict\n",
    "\n",
    "if __name__ == \"__main__\":\n",
    "    results = main()"
   ]
  },
  {
   "cell_type": "code",
   "execution_count": 208,
   "metadata": {},
   "outputs": [
    {
     "data": {
      "text/plain": [
       "{'python_insert_sort': [0.000998,\n",
       "  0.001026,\n",
       "  0.003978,\n",
       "  0.007945,\n",
       "  0.010971,\n",
       "  0.015916,\n",
       "  0.019947,\n",
       "  0.027904,\n",
       "  0.036899,\n",
       "  0.050837],\n",
       " 'python_merge_sort': [0.0,\n",
       "  0.000996,\n",
       "  0.000983,\n",
       "  0.001995,\n",
       "  0.001992,\n",
       "  0.002026,\n",
       "  0.001993,\n",
       "  0.002018,\n",
       "  0.002993,\n",
       "  0.004016],\n",
       " 'python_quick_sort': [0.0,\n",
       "  0.001995,\n",
       "  0.006016,\n",
       "  0.006014,\n",
       "  0.008978,\n",
       "  0.01496,\n",
       "  0.018946,\n",
       "  0.025916,\n",
       "  0.031914,\n",
       "  0.035907]}"
      ]
     },
     "execution_count": 208,
     "metadata": {},
     "output_type": "execute_result"
    }
   ],
   "source": [
    "results"
   ]
  },
  {
   "cell_type": "code",
   "execution_count": null,
   "metadata": {},
   "outputs": [],
   "source": []
  },
  {
   "cell_type": "code",
   "execution_count": 69,
   "metadata": {},
   "outputs": [
    {
     "data": {
      "image/png": "[encoded data removed]",
      "text/plain": [
       "<Figure size 720x720 with 1 Axes>"
      ]
     },
     "metadata": {
      "needs_background": "light"
     },
     "output_type": "display_data"
    }
   ],
   "source": [
    "N = len(ns)\n",
    "#menMeans = (20, 35, 30, 35, 27,5,4,3,5,6)\n",
    "#womenMeans = (25, 32, 34, 20, 25,5,4,3,5,6)\n",
    "legend = list(results.keys())\n",
    "\n",
    "\n",
    "fig, ax = plt.subplots(figsize=(10,10))\n",
    "\n",
    "ind = np.arange(N)    # the x locations for the groups\n",
    "width = 0.35       # the width of the bars: can also be len(x) sequence\n",
    "\n",
    "p1 = ax.bar(ind, menMeans, width)\n",
    "p2 = ax.bar(ind+width, womenMeans, width)\n",
    "\n",
    "ax.set_title('Runtime and algorithms')\n",
    "ax.set_xticks(ind + width / 2)\n",
    "ax.set_xticklabels(list(ns))\n",
    "\n",
    "ax.legend((p1[0], p2[0]), legend)\n",
    "#ax.yaxis.set_units(inch)\n",
    "ax.autoscale_view()\n",
    "\n",
    "#plt.figure(7,figsize=(180,180)) \n",
    "plt.show()"
   ]
  },
  {
   "cell_type": "markdown",
   "metadata": {},
   "source": [
    "# 4.2\n",
    "A função fill_list cria os arrays nas ordens indicadas a seguir: \"random\", \"ascending\", \"descending\". No 'main' eu gero as listas e salvo os gráficos com essas ordens."
   ]
  },
  {
   "cell_type": "markdown",
   "metadata": {},
   "source": [
    "# 4.3\n",
    "A função fill_list cria os arrays nas ordens indicadas a seguir: \"random\", \"ascending\", \"descending\". No 'main' eu gero as listas e salvo os gráficos com essas ordens."
   ]
  },
  {
   "cell_type": "code",
   "execution_count": null,
   "metadata": {},
   "outputs": [],
   "source": []
  }
 ],
 "metadata": {
  "kernelspec": {
   "display_name": "Python 3",
   "language": "python",
   "name": "python3"
  },
  "language_info": {
   "codemirror_mode": {
    "name": "ipython",
    "version": 3
   },
   "file_extension": ".py",
   "mimetype": "text/x-python",
   "name": "python",
   "nbconvert_exporter": "python",
   "pygments_lexer": "ipython3",
   "version": "3.7.1"
  }
 },
 "nbformat": 4,
 "nbformat_minor": 2
}
